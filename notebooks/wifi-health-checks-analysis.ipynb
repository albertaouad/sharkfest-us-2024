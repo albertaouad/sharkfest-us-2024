{
 "cells": [
  {
   "cell_type": "markdown",
   "metadata": {
    "id": "0DM8COOjidJK"
   },
   "source": [
    "#  Enhancing Wi-Fi Networks with AI: A Deep Dive into Machine Learning for Wi-Fi Health Checks\n",
    "\n"
   ]
  },
  {
   "cell_type": "markdown",
   "metadata": {
    "id": "eTY-6KrIcTFd"
   },
   "source": [
    "\n",
    "### Introduction\n",
    "In today's connected world, reliable Wi-Fi is crucial. But keeping it running smoothly can be tricky with all the potential issues like interference and signal drops. We're here to show you how AI, specifically supervised machine learning, can help spot and fix decrease of data ratefor a moving station. We'll walk you through how to build a model that detects performance drops in Wi-Fi networks, making network management more proactive and efficient.\n",
    "\n",
    "Whether you're a tech expert or just curious about AI, this workshop will give you practical insights and hands-on experience. Let's dive in and explore how machine learning can make Wi-Fi better for everyone!\n",
    "\n"
   ]
  },
  {
   "cell_type": "markdown",
   "metadata": {
    "id": "ai_CGEl3opN3"
   },
   "source": [
    "## Objectives\n",
    "* Get Familiar with Supervised Learning: Learn the basics of supervised learning, including key concepts, algorithms, and how it's used to make predictions based on labeled data.\n",
    "\n",
    "* Introduction to Time Series Modeling for Machine Learning: Gain a gentle introduction to time series modeling, exploring how to handle sequential data and apply it in a machine learning context.\n",
    "\n",
    "* Apply Time Series Modeling to Detect Decreases in Data Rate: Discover practical applications by using time series modeling to identify and address drops in Wi-Fi performance, specifically focusing on detecting decreases in data rate.\n"
   ]
  },
  {
   "cell_type": "markdown",
   "metadata": {
    "id": "XhmN91DYcTFd"
   },
   "source": [
    "## Data Generation"
   ]
  },
  {
   "cell_type": "markdown",
   "metadata": {
    "id": "RbLUpGWNcTFe"
   },
   "source": [
    "**TODO**: Murat to add the details of how data was generated"
   ]
  },
  {
   "cell_type": "markdown",
   "metadata": {
    "id": "eSa2j5e7cTFe"
   },
   "source": [
    "### PCAP Extraction process\n",
    "To extract the content of the PCAP file we used the following command:\n",
    "\n",
    "```\n",
    "tshark -o 'gui.column.format:\"cus.protocol\",\"%p\",\"Protocol\",\"%p\",\"cus.wlan.fc.type\",\"%Cus:wlan.fc.type:0:R\",\"cus.wlan.fc.type_subtype\",\"%Cus:wlan.fc.type_subtype:0:R\",\"cus.wlan.ssid\",\"%Cus:wlan.ssid:0:R\"' \\\n",
    "-T fields \\\n",
    "-e _ws.col.cus.protocol \\\n",
    "-e _ws.col.Protocol \\\n",
    "-e frame.protocols \\\n",
    "-e frame.number \\\n",
    "-e frame.time_epoch \\\n",
    "-e wlan.fc.type \\\n",
    "-e _ws.col.cus.wlan.fc.type \\\n",
    "-e wlan.fc.type_subtype \\\n",
    "-e _ws.col.cus.wlan.fc.type_subtype \\\n",
    "-e wlan.ssid \\\n",
    "-e _ws.col.cus.wlan.ssid \\\n",
    "-e wlan.tag \\\n",
    "-e wlan.bssid \\\n",
    "-e wlan.sa \\\n",
    "-e wlan.da \\\n",
    "-e wlan.ra \\\n",
    "-e wlan.ta \\\n",
    "-e wlan_radio.channel \\\n",
    "-e wlan_radio.signal_dbm \\\n",
    "-e wlan_radio.data_rate \\\n",
    "-e wlan.rsn.capabilities \\\n",
    "-e wlan.rsn.akms.list \\\n",
    "-e wlan.rsn.pcs.list \\\n",
    "-e wlan.qos.tid \\\n",
    "-e radiotap.channel.freq \\\n",
    "-e radiotap.dbm_antsignal \\\n",
    "-e radiotap.datarate \\\n",
    "-e wlan.addr \\\n",
    "-e wlan.seq \\\n",
    "-e wlan.fc.retry \\\n",
    "-e wlan.fc.retry.expert \\\n",
    "-e radiotap.data_retries \\\n",
    "-e wlan.duration \\\n",
    "-e wlan.qbss.cu \\\n",
    "-e radiotap.quality \\\n",
    "-e wlan_radio.signal_percentage \\\n",
    "-e wlan.fcs \\\n",
    "-e wlan.fcs.status \\\n",
    "-e wlan.fc \\\n",
    "-e wlan.fc.moredata \\\n",
    "-e frame.len \\\n",
    "-e wlan_radio.duration \\\n",
    "-e frame.cap_len \\\n",
    "-e wlan.qos.priority \\\n",
    "-e wlan.qos.ack \\\n",
    "-e wlan.qos.buf_state_indicated \\\n",
    "-e wlan_radio.noise_dbm \\\n",
    "-e tcp.analysis.ack_rtt \\\n",
    "-e tcp.analysis.lost_segment \\\n",
    "-e tcp.analysis.retransmission \\\n",
    "-e frame.time_delta \\\n",
    "-e wlan_radio.snr \\\n",
    "-e wlan.fc.more_fragments \\\n",
    "-e wlan.fixed.ssc.fragment \\\n",
    "-e wlan.fragment \\\n",
    "-e wlan.fragment.count \\\n",
    "-e wlan.fragment.error \\\n",
    "-e wlan_radio.frequency \\\n",
    "-e radiotap.present.db_antnoise \\\n",
    "-e radiotap.present.db_antsignal \\\n",
    "-e radiotap.present.dbm_antnoise \\\n",
    "-e radiotap.present.dbm_antsignal \\\n",
    "-E aggregator=\"$\" \\\n",
    "-E separator=/t \\\n",
    "-E header=y \\\n",
    "-r 'wifi_file.pcap' \\\n",
    "-w 'output_file.csv'\n",
    "```\n",
    "\n",
    "\n",
    "where `wifi_file.pcap` is the PCAP file and `output.csv` is csv structured output that we will use."
   ]
  },
  {
   "cell_type": "markdown",
   "metadata": {
    "id": "JkE7wl73pUhe"
   },
   "source": [
    "### Verify runtime environment"
   ]
  },
  {
   "cell_type": "code",
   "execution_count": null,
   "metadata": {
    "colab": {
     "base_uri": "https://localhost:8080/",
     "height": 1000
    },
    "executionInfo": {
     "elapsed": 83325,
     "status": "ok",
     "timestamp": 1717595947260,
     "user": {
      "displayName": "Zohaib Aftab",
      "userId": "05670439402796310935"
     },
     "user_tz": 240
    },
    "id": "UsgAeb7pcTFe",
    "metadata": {},
    "outputId": "4816d941-bb57-4147-f1b2-f8a732581db5"
   },
   "outputs": [],
   "source": [
    "try:\n",
    "    import google.colab\n",
    "    from google.colab import output        \n",
    "    output.enable_custom_widget_manager()         # Enable custom widgets in Colab for profile reports\n",
    "    IN_COLAB = True\n",
    "    # Load the autoreload extension for IPython\n",
    "    %load_ext autoreload\n",
    "    # Set the autoreload extension to reload modules every time they are imported, so that changes made to code in the src folder are reflected in the running code\n",
    "    %autoreload 2\n",
    "\n",
    "    %pip install ydata_profiling==4.8.3 \\\n",
    "            scikit-learn==1.5.0 \\\n",
    "            itables==2.1.0 \\\n",
    "            ipywidgets==8.1.2 \\\n",
    "            numpy==1.24.1\n",
    "        \n",
    "except:\n",
    "    IN_COLAB = False"
   ]
  },
  {
   "cell_type": "markdown",
   "metadata": {
    "id": "BbF-AaFoo8l8"
   },
   "source": [
    "### Import libraries"
   ]
  },
  {
   "cell_type": "code",
   "execution_count": null,
   "metadata": {
    "executionInfo": {
     "elapsed": 95,
     "status": "ok",
     "timestamp": 1717595974307,
     "user": {
      "displayName": "Zohaib Aftab",
      "userId": "05670439402796310935"
     },
     "user_tz": 240
    },
    "id": "ET-H7HyPpFWd",
    "metadata": {}
   },
   "outputs": [],
   "source": [
    "import os                       # Interact with the operating system\n",
    "import pandas as pd             # Data analysis and manipulation\n",
    "import numpy as np              # Numerical operations on arrays\n",
    "import matplotlib.pyplot as plt         # Create plots\n",
    "from itables import show                # To create interactive tables\n",
    "from ydata_profiling import ProfileReport     # Generate data profile reports\n",
    "import zipfile"
   ]
  },
  {
   "cell_type": "markdown",
   "metadata": {
    "id": "CQmJYy6ncTFg"
   },
   "source": [
    "### Reading the data"
   ]
  },
  {
   "cell_type": "code",
   "execution_count": null,
   "metadata": {
    "colab": {
     "base_uri": "https://localhost:8080/"
    },
    "executionInfo": {
     "elapsed": 17078,
     "status": "ok",
     "timestamp": 1717595991526,
     "user": {
      "displayName": "Zohaib Aftab",
      "userId": "05670439402796310935"
     },
     "user_tz": 240
    },
    "id": "iITmyJ0vcTFg",
    "metadata": {},
    "outputId": "a072b965-8d07-408d-d2ee-9e66596b7970"
   },
   "outputs": [],
   "source": [
    "%%time\n",
    "import os\n",
    "from zipfile import ZipFile\n",
    "from ipywidgets import interact\n",
    "\n",
    "try:\n",
    "    import google.colab\n",
    "    IN_COLAB = True\n",
    "except:\n",
    "    IN_COLAB = False\n",
    "\n",
    "if IN_COLAB:\n",
    "  # Define the URL of the zip file\n",
    "  url = \"https://github.com/b-yond-infinite-network/sharkfest-us-2024/raw/main/data/wifi-health-checks-data.zip\"\n",
    "\n",
    "  # Define the local file path where the zip file will be saved\n",
    "  data_path = \"/content/wifi-health-checks-data.zip\"\n",
    "  local_extract_path =\"/content/tmp\"\n",
    "\n",
    "  # Download the zip file using wget\n",
    "  !wget -O {data_path} {url}\n",
    "\n",
    "  # Confirm the download location\n",
    "  print(f\"Zip file downloaded to: {local_zip_path}\")\n",
    "else:\n",
    "  # Define the path of the zip file\n",
    "  data_path = \"../data/wifi-health-checks-data.zip\"\n",
    "  local_extract_path = \"../data/tmp\"\n",
    "\n",
    "# Extract the zip file\n",
    "with ZipFile(data_path) as zip_file:\n",
    "    zip_file.extractall(local_extract_path)\n",
    "\n",
    "# Collect the list of CSV file paths\n",
    "files = [os.path.join(local_extract_path, file_name) for file_name in os.listdir(local_extract_path) if file_name.endswith('.csv')]\n",
    "\n",
    "# choose the file from a dropdown list inside the notebook\n",
    "df = None\n",
    "def load_file(file):\n",
    "    \"\"\"\n",
    "    Load the file into a dataframe and display the info\n",
    "    \"\"\"\n",
    "    global df\n",
    "    df = pd.read_csv(file)\n",
    "    return df.info()\n",
    "\n",
    "interact(load_file, file=files)"
   ]
  },
  {
   "cell_type": "markdown",
   "metadata": {
    "id": "r7RW7uuApfW5"
   },
   "source": [
    "## Functions to preprocess the data\n",
    "For each file we will:\n",
    "* remove the empty columns\n",
    "* change epoch times ('frame_time_epoch') to timestamps\n",
    "* filter the rows with specific source address and keep only data frames\n",
    "* index the file by the timestamps"
   ]
  },
  {
   "cell_type": "code",
   "execution_count": null,
   "metadata": {
    "executionInfo": {
     "elapsed": 9,
     "status": "ok",
     "timestamp": 1717595992132,
     "user": {
      "displayName": "Zohaib Aftab",
      "userId": "05670439402796310935"
     },
     "user_tz": 240
    },
    "id": "s0P8MhraeUFI",
    "metadata": {}
   },
   "outputs": [],
   "source": [
    "# function to convert epoch times to datetime\n",
    "def convert_epoch_to_datetime(df):\n",
    "    df['timestamps'] = pd.to_datetime(df['frame_time_epoch'], unit='s')\n",
    "    return df\n",
    "\n",
    "# function to select frames with 'wlan_fc_type' == 2 and 'wlan_sa' is not 'source_address'\n",
    "def select_frames(df, source_address):\n",
    "    return df[(df['wlan_fc_type'] == 2) & (df['wlan_sa'] != source_address)]  # Is this the right way?\n",
    "\n",
    "# function to remove empty columns\n",
    "def remove_empty_columns(df):\n",
    "    return df.dropna(axis=1, how='all')\n",
    "\n",
    "def preprocess(df, source_address):\n",
    "    res = convert_epoch_to_datetime(df)\n",
    "    res = select_frames(res,source_address)\n",
    "    res = remove_empty_columns(res)\n",
    "    return res\n",
    "\n",
    "\n",
    "# Lets apply the preprocessing function to the df we created earlier\n",
    "source_address = '00:00:00:00:00:02'  #this is the client address. we don't want packets where it is the source address\n",
    "df = preprocess(df, source_address)\n",
    "df.info()       # check the column names and their data types"
   ]
  },
  {
   "cell_type": "markdown",
   "metadata": {
    "id": "LfbxFPjicTFi"
   },
   "source": [
    "### Some Observations\n",
    "- The number of columns have been reduced\n",
    "- The 'timestamps' column is added at the end\n",
    "- The number of rows reduced"
   ]
  },
  {
   "cell_type": "code",
   "execution_count": null,
   "metadata": {
    "colab": {
     "base_uri": "https://localhost:8080/"
    },
    "executionInfo": {
     "elapsed": 137,
     "status": "ok",
     "timestamp": 1717595992264,
     "user": {
      "displayName": "Zohaib Aftab",
      "userId": "05670439402796310935"
     },
     "user_tz": 240
    },
    "id": "Ah-ZX-ZicTFi",
    "metadata": {},
    "outputId": "449b4651-3cb6-4a42-83a3-61cee2cf5bda"
   },
   "outputs": [],
   "source": [
    "%%time\n",
    "\n",
    "# Let us now analyze the data statistically using ydata_profiling library\n",
    "profile = ProfileReport(df, title='Pandas Profiling Report', explorative=True)\n",
    "\n",
    "# Define the report path\n",
    "report_path = \"./output/report/analysis_report.html\"\n",
    "\n",
    "# Create the directory if it doesn't exist\n",
    "os.makedirs(os.path.dirname(report_path), exist_ok=True)\n",
    "\n",
    "# we can save the analysis in the drive\n",
    "profile.to_file(report_path)\n"
   ]
  },
  {
   "cell_type": "markdown",
   "metadata": {
    "id": "YXDh2c2ccTFi"
   },
   "source": [
    "### Function to resample the data\n",
    "\n",
    "The Objective is to resample the data to a specific time interval."
   ]
  },
  {
   "cell_type": "code",
   "execution_count": null,
   "metadata": {
    "colab": {
     "base_uri": "https://localhost:8080/",
     "height": 507
    },
    "executionInfo": {
     "elapsed": 599,
     "status": "ok",
     "timestamp": 1717595992861,
     "user": {
      "displayName": "Zohaib Aftab",
      "userId": "05670439402796310935"
     },
     "user_tz": 240
    },
    "id": "vyZXJNHKcTFi",
    "metadata": {},
    "outputId": "da72de39-8666-468d-bccd-abdd8226f7f7"
   },
   "outputs": [],
   "source": [
    "# create a function which also takes sampling time as input\n",
    "def resample_file(df, step_size):\n",
    "\n",
    "    # if the columns exists, set index, if not, it has already been set\n",
    "    if 'timestamps' in df.columns:\n",
    "        df.set_index('timestamps', inplace=True)    #set index to timestamps\n",
    "\n",
    "    #resample data and fill missing values with previous values\n",
    "    df = df.resample(f'{step_size}s').ffill()\n",
    "\n",
    "    # with ffil, the first row is NaN, so we drop it\n",
    "    df = df.dropna(how = 'all')\n",
    "\n",
    "    return df\n",
    "\n",
    "\n",
    "# Test the function, resample the data and plot to analyze\n",
    "step_size = 1\n",
    "resampled_df = resample_file(df, step_size)\n",
    "\n",
    "# Let's plot the 'wlan_radio_data_rate' vs timestamps\n",
    "plt.figure(figsize=(12, 5))\n",
    "plt.plot(resampled_df.index, resampled_df['wlan_radio_data_rate'])\n",
    "plt.scatter(resampled_df.index, resampled_df['wlan_radio_data_rate'], color='red', s=10)\n",
    "plt.xlabel('timestamps')\n",
    "plt.ylabel('wlan_radio_data_rate')\n",
    "plt.title('wlan_radio_data_rate vs timestamps')\n",
    "plt.show()\n"
   ]
  },
  {
   "cell_type": "markdown",
   "metadata": {
    "id": "TWF8lSaacTFj"
   },
   "source": [
    "## Feature Creation\n",
    "The idea is to create a set of features using the past history of the data. We will use our variable of interest `wlan_radio_datarate` and its past values to create the features."
   ]
  },
  {
   "cell_type": "code",
   "execution_count": null,
   "metadata": {
    "colab": {
     "base_uri": "https://localhost:8080/",
     "height": 543
    },
    "executionInfo": {
     "elapsed": 6,
     "status": "ok",
     "timestamp": 1717595992861,
     "user": {
      "displayName": "Zohaib Aftab",
      "userId": "05670439402796310935"
     },
     "user_tz": 240
    },
    "id": "pAZ1bdu6cTFj",
    "metadata": {},
    "outputId": "996f8f12-529d-4c30-8190-01c88945339d"
   },
   "outputs": [],
   "source": [
    "# create a function to create features from the 'wlan_radio_data_rate' column\n",
    "def create_features(df, past_history_sec):\n",
    "\n",
    "    # convert past_history from seconds to number of samples, based on the resampling time\n",
    "    past_history_samples = int(past_history_sec / step_size)\n",
    "\n",
    "    for i in range(1, past_history_samples+1):\n",
    "\n",
    "        df[f'data_rate_lag_{i}'] = df['wlan_radio_data_rate'].shift(i)\n",
    "\n",
    "    # remove initial rows with NaN values in the new columns\n",
    "    df = df.iloc[past_history_samples:]\n",
    "\n",
    "    return df\n",
    "\n",
    "# Test the function, create features and plot to analyze\n",
    "past_history_sec = 7  #s, *times the resampling time\n",
    "\n",
    "df = create_features(resampled_df, past_history_sec)\n",
    "show(df)"
   ]
  },
  {
   "cell_type": "code",
   "execution_count": null,
   "metadata": {
    "executionInfo": {
     "elapsed": 5,
     "status": "ok",
     "timestamp": 1717595992861,
     "user": {
      "displayName": "Zohaib Aftab",
      "userId": "05670439402796310935"
     },
     "user_tz": 240
    },
    "id": "PBezAlHacTFj",
    "metadata": {}
   },
   "outputs": [],
   "source": [
    "%%time\n",
    "\n",
    "# Let us now analyze the data statistically using ydata_profiling library\n",
    "profile2 = ProfileReport(df, title='Pandas Profiling Report', explorative=True)\n",
    "\n",
    "# Define the report path\n",
    "report_path2 = \"./output/report/analysis_report2.html\"\n",
    "\n",
    "# Create the directory if it doesn't exist\n",
    "os.makedirs(os.path.dirname(report_path2), exist_ok=True)\n",
    "\n",
    "# we can save the analysis in the drive\n",
    "profile.to_file(report_path2)\n"
   ]
  },
  {
   "cell_type": "markdown",
   "metadata": {
    "id": "zXMU6RYPcTFj"
   },
   "source": [
    "# Lets do all of the above steps on all the files in the folder in a loop and then save the results in a big dataframe"
   ]
  },
  {
   "cell_type": "code",
   "execution_count": null,
   "metadata": {
    "colab": {
     "base_uri": "https://localhost:8080/",
     "height": 543
    },
    "executionInfo": {
     "elapsed": 10152,
     "status": "ok",
     "timestamp": 1717596003009,
     "user": {
      "displayName": "Zohaib Aftab",
      "userId": "05670439402796310935"
     },
     "user_tz": 240
    },
    "id": "umktCIoTcTFj",
    "metadata": {},
    "outputId": "d750874d-a4f2-490f-bfdb-090b994da355"
   },
   "outputs": [],
   "source": [
    "df_complete = pd.DataFrame()\n",
    "\n",
    "# fix the step size and past history\n",
    "step_size = 1\n",
    "past_history = 15\n",
    "\n",
    "past_history_samples = int(past_history_sec / step_size)\n",
    "\n",
    "for file in files:\n",
    "    df = pd.read_csv(file)\n",
    "    df = preprocess(df, source_address)\n",
    "    df = resample_file(df, step_size)\n",
    "\n",
    "    df = create_features(df, past_history)\n",
    "\n",
    "    df_complete = pd.concat([df_complete, df])\n",
    "\n",
    "show(df_complete)"
   ]
  },
  {
   "cell_type": "markdown",
   "metadata": {
    "id": "JKnTG-VTcTFk"
   },
   "source": [
    "## Model Development"
   ]
  },
  {
   "cell_type": "markdown",
   "metadata": {
    "id": "tfl0wgvWcTFk"
   },
   "source": [
    "<img src=\"../assets/ml_process.jpg\">\n"
   ]
  },
  {
   "cell_type": "markdown",
   "metadata": {
    "id": "pd4gE3-fcTFk"
   },
   "source": [
    "### Select features and split the data"
   ]
  },
  {
   "cell_type": "code",
   "execution_count": null,
   "metadata": {
    "executionInfo": {
     "elapsed": 699,
     "status": "ok",
     "timestamp": 1717596003702,
     "user": {
      "displayName": "Zohaib Aftab",
      "userId": "05670439402796310935"
     },
     "user_tz": 240
    },
    "id": "Uwroqb4wcTFk",
    "metadata": {}
   },
   "outputs": [],
   "source": [
    "%%time\n",
    "from sklearn.model_selection import train_test_split\n",
    "from sklearn.ensemble import RandomForestClassifier\n",
    "\n",
    "# select the 'wlan_radio_data_rate' as features and its lags equal to 'past_history_samples' as features\n",
    "features = [f'data_rate_lag_{i}' for i in range(1, past_history_samples+1)]\n",
    "features.append('wlan_radio_data_rate')\n",
    "# print(features)\n",
    "\n",
    "target = 'label'\n",
    "\n",
    "X = df_complete[features]\n",
    "y = df_complete[target]\n",
    "\n",
    "X_train, X_test, y_train, y_test = train_test_split(X, y,\n",
    "                                                    test_size=0.2,\n",
    "                                                    random_state=20,\n",
    "                                                    shuffle=False\n",
    "                                                    )\n",
    "\n",
    "#  random forest classifier\n",
    "rf = RandomForestClassifier(\n",
    "                            class_weight= 'balanced',\n",
    "                            random_state=20\n",
    "                            )\n",
    "rf.fit(X_train, y_train)\n",
    "\n",
    "# Predict\n",
    "y_pred = rf.predict(X_test)"
   ]
  },
  {
   "cell_type": "markdown",
   "metadata": {
    "id": "lYbYb9EfcTFk"
   },
   "source": [
    "## Evaluation of the model"
   ]
  },
  {
   "cell_type": "markdown",
   "metadata": {
    "id": "6uAQZEbacTFk"
   },
   "source": [
    "### Confusion matrix\n",
    "<img src=\"../assets/confusion_matrix.png\">\n",
    "\n",
    "### Evaluation Metrics\n",
    "\n",
    "<img src=\"../assets/precision_recall.jpg\">\n"
   ]
  },
  {
   "cell_type": "code",
   "execution_count": null,
   "metadata": {
    "colab": {
     "base_uri": "https://localhost:8080/",
     "height": 651
    },
    "executionInfo": {
     "elapsed": 214,
     "status": "ok",
     "timestamp": 1717596003915,
     "user": {
      "displayName": "Zohaib Aftab",
      "userId": "05670439402796310935"
     },
     "user_tz": 240
    },
    "id": "IHH9nEBucTFl",
    "metadata": {},
    "outputId": "cbde2d89-61ba-4025-8641-64f9ea4146e7"
   },
   "outputs": [],
   "source": [
    "%%time\n",
    "from sklearn.metrics import accuracy_score, precision_score, recall_score, f1_score, confusion_matrix, classification_report\n",
    "import seaborn as sns\n",
    "\n",
    "def evaluate_model(y_test, y_predict):\n",
    "\n",
    "    print(\"Overall accuracy', %.3f\" %accuracy_score(y_test, y_predict))\n",
    "    precision = precision_score(y_test, y_predict)\n",
    "    print('Precision: %.3f' % precision)\n",
    "\n",
    "    recall = recall_score(y_test, y_predict)\n",
    "    print('Recall: %.3f' % recall)\n",
    "\n",
    "    f1 = f1_score(y_test, y_predict, average='binary')\n",
    "    print('F1: %.3f' % f1)\n",
    "\n",
    "    print(\"CLASSIFICATION REPORT\")\n",
    "    print(classification_report(y_test, y_predict))\n",
    "\n",
    "    cm = confusion_matrix(y_test, y_predict)\n",
    "\n",
    "    labels = np.asarray(\n",
    "        [ [\"{0:0.0f}\".format(item) + \"\\n{0:.2%}\".format(item / cm.flatten().sum())]\n",
    "            for item in cm.flatten() ]\n",
    "    ).reshape(2, 2)\n",
    "\n",
    "    plt.figure(figsize=(6, 4))\n",
    "    sns.heatmap(cm, annot=labels, fmt=\"\", cmap=\"YlGnBu\")\n",
    "    plt.ylabel(\"True label\")\n",
    "    plt.xlabel(\"Predicted label\")\n",
    "\n",
    "# call the function\n",
    "evaluate_model(y_test, y_pred)"
   ]
  },
  {
   "cell_type": "markdown",
   "metadata": {
    "id": "x1ViJ8A-cTFl"
   },
   "source": [
    "## Improving accuracy"
   ]
  },
  {
   "cell_type": "markdown",
   "metadata": {
    "id": "S5DPrcYqcTFl"
   },
   "source": [
    "The idea is to use the classification threshold that minimizes the difference between precision and recall"
   ]
  },
  {
   "cell_type": "code",
   "execution_count": null,
   "metadata": {
    "colab": {
     "base_uri": "https://localhost:8080/",
     "height": 669
    },
    "executionInfo": {
     "elapsed": 8949,
     "status": "ok",
     "timestamp": 1717596012861,
     "user": {
      "displayName": "Zohaib Aftab",
      "userId": "05670439402796310935"
     },
     "user_tz": 240
    },
    "id": "UvGPFfsscTFl",
    "metadata": {},
    "outputId": "58ae1088-43d5-49ec-f4af-4a71a8b37f1a"
   },
   "outputs": [],
   "source": [
    "%%time\n",
    "# Find the best threshold for the model\n",
    "\n",
    "from sklearn.model_selection import FixedThresholdClassifier\n",
    "\n",
    "thresholds = np.arange(0.1, 0.95, 0.05)\n",
    "\n",
    "def find_best_threshold(classifier, X_train, y_train, X_test, y_test, thresholds):\n",
    "\n",
    "    results = []\n",
    "\n",
    "    for threshold in thresholds:\n",
    "        rf_improved = FixedThresholdClassifier(classifier, threshold=threshold)\n",
    "        y_pred = rf_improved.fit(X_train, y_train).predict(X_test)\n",
    "\n",
    "        precision = precision_score(y_test, y_pred)\n",
    "        recall = recall_score(y_test, y_pred)\n",
    "        f1 = f1_score(y_test, y_pred, average='binary')\n",
    "\n",
    "        # if any of the precision or recall is zero, skip the threshold.\n",
    "        # sklearn sets them to zero when their denominator is zero\n",
    "\n",
    "        if precision == 0 or recall == 0:\n",
    "            continue\n",
    "\n",
    "        results.append([threshold, precision, recall, f1])\n",
    "\n",
    "    results = pd.DataFrame(results, columns=['threshold', 'precision', 'recall', 'f1_score'])\n",
    "    results['diff_pre_rec'] = abs(results['precision'] - results['recall'])\n",
    "\n",
    "    # find the threshold with the minimum difference between precision and recall\n",
    "    best_threshold = results.loc[results['diff_pre_rec'].idxmin()]\n",
    "\n",
    "    # train the model with the best threshold and return it\n",
    "    best_model = FixedThresholdClassifier(classifier, threshold=best_threshold['threshold'])\n",
    "\n",
    "    return best_threshold, best_model\n",
    "\n",
    "\n",
    "# Call the function\n",
    "best_threshold, best_model = find_best_threshold(rf, X_train, y_train, X_test, y_test, thresholds)\n",
    "print('Best threshold:', best_threshold['threshold'])\n",
    "best_model.fit(X_train, y_train)\n",
    "\n",
    "# Evaluate the model with the best threshold\n",
    "y_pred = best_model.predict(X_test)\n",
    "evaluate_model(y_test, y_pred)\n"
   ]
  },
  {
   "cell_type": "markdown",
   "metadata": {
    "id": "_QqGmOL3cTFl"
   },
   "source": [
    "## Can we further improve the model?\n",
    "\n",
    "Q1: How often should we make predictions (variable `step_size`)? \\\n",
    "Q2: How many past samples should we use to make predictions (variable `past_history`)?"
   ]
  },
  {
   "cell_type": "code",
   "execution_count": null,
   "metadata": {
    "colab": {
     "base_uri": "https://localhost:8080/"
    },
    "executionInfo": {
     "elapsed": 191710,
     "status": "ok",
     "timestamp": 1717596204565,
     "user": {
      "displayName": "Zohaib Aftab",
      "userId": "05670439402796310935"
     },
     "user_tz": 240
    },
    "id": "-z1O06oNcTFl",
    "metadata": {},
    "outputId": "9b93af62-1de5-4efc-b087-09fbacb46b3c"
   },
   "outputs": [],
   "source": [
    "%%time\n",
    "step_size_vals = [1, 2, 3, 5]\n",
    "past_history_vals = [5, 10, 15, 20, 25]\n",
    "\n",
    "final_results = []\n",
    "\n",
    "for step_size in step_size_vals:\n",
    "\n",
    "    for past_history in past_history_vals:\n",
    "\n",
    "        print(f'Resampling time: {step_size}, Window size: {past_history}...')\n",
    "\n",
    "        # if the window size is less than the resampling time, skip the iteration\n",
    "        if past_history < step_size:\n",
    "            continue\n",
    "\n",
    "        past_history_samples = int(past_history / step_size)\n",
    "\n",
    "        wifi_data = pd.DataFrame()\n",
    "\n",
    "        for file in files:\n",
    "            df = pd.read_csv(file)\n",
    "            df = preprocess(df, source_address)\n",
    "            df = resample_file(df, step_size)\n",
    "\n",
    "            df = create_features(df, past_history)\n",
    "\n",
    "            wifi_data = pd.concat([wifi_data, df])\n",
    "\n",
    "        # select the wlan_radio_data_rate as features and its lags equal to past_history_samples as features\n",
    "        features = [f'data_rate_lag_{i}' for i in range(1, past_history_samples+1)]\n",
    "        features.append('wlan_radio_data_rate')\n",
    "\n",
    "        X = wifi_data[features]\n",
    "        y = wifi_data[target]\n",
    "\n",
    "        X_train, X_test, y_train, y_test = train_test_split(X, y,\n",
    "                                                            test_size=0.2,\n",
    "                                                            random_state=10,\n",
    "                                                            shuffle=False\n",
    "                                                            )\n",
    "\n",
    "        model = RandomForestClassifier(class_weight= 'balanced',\n",
    "                                    random_state=20\n",
    "                                    )\n",
    "        model.fit(X_train, y_train)\n",
    "\n",
    "        # finding an optimal threshold value for the model\n",
    "        best_threshold, best_model = find_best_threshold(model, X_train, y_train, X_test, y_test, thresholds)\n",
    "\n",
    "        # select the best model metrics and store them\n",
    "        precision = best_threshold['precision']\n",
    "        recall = best_threshold['recall']\n",
    "        f1 = best_threshold['f1_score']\n",
    "\n",
    "        final_results.append([step_size, past_history, precision, recall, f1, model])\n",
    "\n",
    "final_results = pd.DataFrame(final_results, columns=['step_size', 'past_history', 'precision', 'recall', 'f1_score', 'model'])\n"
   ]
  },
  {
   "cell_type": "code",
   "execution_count": null,
   "metadata": {
    "colab": {
     "base_uri": "https://localhost:8080/",
     "height": 584
    },
    "executionInfo": {
     "elapsed": 416,
     "status": "ok",
     "timestamp": 1717596204978,
     "user": {
      "displayName": "Zohaib Aftab",
      "userId": "05670439402796310935"
     },
     "user_tz": 240
    },
    "id": "hdCh4m6EcTFl",
    "metadata": {},
    "outputId": "fec256a0-1735-4924-d837-82a73e31510d"
   },
   "outputs": [],
   "source": [
    "df_plot = final_results.pivot(index='step_size', columns='past_history', values='f1_score')\n",
    "\n",
    "plt.figure(figsize=(8, 6))\n",
    "sns.heatmap(df_plot, annot=True, fmt=\".3f\", cmap=\"BuPu\")\n",
    "plt.ylabel(\"Step size (sec)\")\n",
    "plt.xlabel(\"Past history (sec)\")\n",
    "plt.title(\"F1-score (positive class)\")\n",
    "plt.show()"
   ]
  },
  {
   "cell_type": "markdown",
   "metadata": {
    "id": "ZD9pO11ncTFm"
   },
   "source": [
    "<!-- take examples.  -->\n"
   ]
  },
  {
   "cell_type": "code",
   "execution_count": null,
   "metadata": {
    "colab": {
     "base_uri": "https://localhost:8080/",
     "height": 701
    },
    "executionInfo": {
     "elapsed": 1858,
     "status": "ok",
     "timestamp": 1717597022564,
     "user": {
      "displayName": "Zohaib Aftab",
      "userId": "05670439402796310935"
     },
     "user_tz": 240
    },
    "id": "TMPbFGDYcTFm",
    "metadata": {},
    "outputId": "2a8fae1b-8785-468d-ae84-6b3133eace89"
   },
   "outputs": [],
   "source": [
    "# choose some positive class indices from the test set and some negative class indices\n",
    "positive_indices = y_test[y_test == 1].index\n",
    "negative_indices = y_test[y_test == 0].index\n",
    "\n",
    "# Create a figure and subplots\n",
    "fig, axs = plt.subplots(2, 1, figsize=(8, 6))\n",
    "# Plot positive_indices in red\n",
    "axs[0].plot(X_test.loc[positive_indices].T, 'r', alpha=0.6)\n",
    "axs[0].set_title('Features for label 1')\n",
    "axs[0].set_xticklabels([])\n",
    "\n",
    "# Plot negative_indices in blue\n",
    "axs[1].plot(X_test.loc[negative_indices].T, 'b', alpha=0.6)\n",
    "axs[1].set_title('Features for label 0')\n",
    "axs[1].set_xticklabels(X_test.columns, rotation=45)\n",
    "\n",
    "plt.show()\n"
   ]
  },
  {
   "cell_type": "code",
   "execution_count": null,
   "metadata": {
    "colab": {
     "base_uri": "https://localhost:8080/",
     "height": 231
    },
    "executionInfo": {
     "elapsed": 245,
     "status": "error",
     "timestamp": 1717597074425,
     "user": {
      "displayName": "Zohaib Aftab",
      "userId": "05670439402796310935"
     },
     "user_tz": 240
    },
    "id": "xkgEqxt0cTFm",
    "outputId": "c44893ba-aefd-4a98-8076-05bfcac6beb8"
   },
   "outputs": [],
   "source": [
    "# # plot feature importance\n",
    "# importances = best_model.feature_importances_\n",
    "# indices = np.argsort(importances)[::-1]\n",
    "\n",
    "# plt.figure(figsize=(6, 4))\n",
    "# plt.bar(range(X_train.shape[1]), importances[indices])\n",
    "# plt.xticks(range(X_train.shape[1]), [features[i] for i in indices], rotation=90)\n",
    "# plt.title(\"Feature importance\")\n",
    "# plt.show()"
   ]
  }
 ],
 "metadata": {
  "colab": {
   "provenance": []
  },
  "kernelspec": {
   "display_name": "Python 3 (ipykernel)",
   "language": "python",
   "name": "python3"
  },
  "language_info": {
   "codemirror_mode": {
    "name": "ipython",
    "version": 3
   },
   "file_extension": ".py",
   "mimetype": "text/x-python",
   "name": "python",
   "nbconvert_exporter": "python",
   "pygments_lexer": "ipython3",
   "version": "3.9.18"
  },
  "widgets": {
   "application/vnd.jupyter.widget-state+json": {
    "15a542bd5d644b8e9a857b218e5c65d8": {
     "model_module": "@jupyter-widgets/controls",
     "model_module_version": "2.0.0",
     "model_name": "DescriptionStyleModel",
     "state": {
      "_model_module": "@jupyter-widgets/controls",
      "_model_module_version": "2.0.0",
      "_model_name": "DescriptionStyleModel",
      "_view_count": null,
      "_view_module": "@jupyter-widgets/base",
      "_view_module_version": "2.0.0",
      "_view_name": "StyleView",
      "description_width": ""
     }
    },
    "24878de59e7b49328abef6ff8cfd5405": {
     "model_module": "@jupyter-widgets/base",
     "model_module_version": "2.0.0",
     "model_name": "LayoutModel",
     "state": {
      "_model_module": "@jupyter-widgets/base",
      "_model_module_version": "2.0.0",
      "_model_name": "LayoutModel",
      "_view_count": null,
      "_view_module": "@jupyter-widgets/base",
      "_view_module_version": "2.0.0",
      "_view_name": "LayoutView",
      "align_content": null,
      "align_items": null,
      "align_self": null,
      "border_bottom": null,
      "border_left": null,
      "border_right": null,
      "border_top": null,
      "bottom": null,
      "display": null,
      "flex": null,
      "flex_flow": null,
      "grid_area": null,
      "grid_auto_columns": null,
      "grid_auto_flow": null,
      "grid_auto_rows": null,
      "grid_column": null,
      "grid_gap": null,
      "grid_row": null,
      "grid_template_areas": null,
      "grid_template_columns": null,
      "grid_template_rows": null,
      "height": null,
      "justify_content": null,
      "justify_items": null,
      "left": null,
      "margin": null,
      "max_height": null,
      "max_width": null,
      "min_height": null,
      "min_width": null,
      "object_fit": null,
      "object_position": null,
      "order": null,
      "overflow": null,
      "padding": null,
      "right": null,
      "top": null,
      "visibility": null,
      "width": null
     }
    },
    "422b154db57c4645b433148f13b32de1": {
     "model_module": "@jupyter-widgets/controls",
     "model_module_version": "2.0.0",
     "model_name": "VBoxModel",
     "state": {
      "_dom_classes": [
       "widget-interact"
      ],
      "_model_module": "@jupyter-widgets/controls",
      "_model_module_version": "2.0.0",
      "_model_name": "VBoxModel",
      "_view_count": null,
      "_view_module": "@jupyter-widgets/controls",
      "_view_module_version": "2.0.0",
      "_view_name": "VBoxView",
      "box_style": "",
      "children": [
       "IPY_MODEL_4da024cd0d144d5894cf4d06f29a577e",
       "IPY_MODEL_979e856191af48b2a29a44a8bde0b905"
      ],
      "layout": "IPY_MODEL_24878de59e7b49328abef6ff8cfd5405",
      "tabbable": null,
      "tooltip": null
     }
    },
    "4da024cd0d144d5894cf4d06f29a577e": {
     "model_module": "@jupyter-widgets/controls",
     "model_module_version": "2.0.0",
     "model_name": "DropdownModel",
     "state": {
      "_dom_classes": [],
      "_model_module": "@jupyter-widgets/controls",
      "_model_module_version": "2.0.0",
      "_model_name": "DropdownModel",
      "_options_labels": [
       "file-logDistance-exp3dot5-nt-91dBm-fc3-minspeed10-maxspeed20-area1600-testhttp_load.pcap.csv",
       "file-logDistance-exp3dot5-nt-91dBm-fc3-minspeed10-maxspeed20-area3600-testhttp_load.pcap.csv",
       "file-logDistance-exp3dot5-nt-91dBm-fc3-minspeed10-maxspeed20-area6400-testhttp_load.pcap.csv",
       "file-logDistance-exp3dot5-nt-91dBm-fc3-minspeed20-maxspeed40-area1600-testhttp_load.pcap.csv",
       "file-logDistance-exp3dot5-nt-91dBm-fc3-minspeed20-maxspeed40-area3600-testhttp_load.pcap.csv",
       "file-logDistance-exp3dot5-nt-91dBm-fc3-minspeed20-maxspeed40-area6400-testhttp_load.pcap.csv",
       "file-logDistance-exp3dot5-nt-91dBm-fc3-minspeed40-maxspeed80-area1600-testhttp_load.pcap.csv",
       "file-logDistance-exp3dot5-nt-91dBm-fc3-minspeed40-maxspeed80-area3600-testhttp_load.pcap.csv",
       "file-logDistance-exp3dot5-nt-91dBm-fc3-minspeed40-maxspeed80-area6400-testhttp_load.pcap.csv",
       "file-logDistance-exp4dot5-nt-91dBm-fc3-minspeed10-maxspeed20-area1600-testhttp_load.pcap.csv",
       "file-logDistance-exp4dot5-nt-91dBm-fc3-minspeed10-maxspeed20-area3600-testhttp_load.pcap.csv",
       "file-logDistance-exp4dot5-nt-91dBm-fc3-minspeed10-maxspeed20-area6400-testhttp_load.pcap.csv",
       "file-logDistance-exp4dot5-nt-91dBm-fc3-minspeed20-maxspeed40-area1600-testhttp_load.pcap.csv",
       "file-logDistance-exp4dot5-nt-91dBm-fc3-minspeed20-maxspeed40-area3600-testhttp_load.pcap.csv",
       "file-logDistance-exp4dot5-nt-91dBm-fc3-minspeed20-maxspeed40-area6400-testhttp_load.pcap.csv",
       "file-logDistance-exp4dot5-nt-91dBm-fc3-minspeed40-maxspeed80-area1600-testhttp_load.pcap.csv",
       "file-logDistance-exp4dot5-nt-91dBm-fc3-minspeed40-maxspeed80-area3600-testhttp_load.pcap.csv",
       "file-logDistance-exp4dot5-nt-91dBm-fc3-minspeed40-maxspeed80-area6400-testhttp_load.pcap.csv",
       "file-logDistance-exp5-nt-91dBm-fc3-minspeed10-maxspeed20-area1600-testhttp_load.pcap.csv",
       "file-logDistance-exp5-nt-91dBm-fc3-minspeed10-maxspeed20-area3600-testhttp_load.pcap.csv",
       "file-logDistance-exp5-nt-91dBm-fc3-minspeed10-maxspeed20-area6400-testhttp_load.pcap.csv",
       "file-logDistance-exp5-nt-91dBm-fc3-minspeed20-maxspeed40-area1600-testhttp_load.pcap.csv",
       "file-logDistance-exp5-nt-91dBm-fc3-minspeed20-maxspeed40-area3600-testhttp_load.pcap.csv",
       "file-logDistance-exp5-nt-91dBm-fc3-minspeed20-maxspeed40-area6400-testhttp_load.pcap.csv",
       "file-logDistance-exp5-nt-91dBm-fc3-minspeed40-maxspeed80-area1600-testhttp_load.pcap.csv",
       "file-logDistance-exp5-nt-91dBm-fc3-minspeed40-maxspeed80-area3600-testhttp_load.pcap.csv"
      ],
      "_view_count": null,
      "_view_module": "@jupyter-widgets/controls",
      "_view_module_version": "2.0.0",
      "_view_name": "DropdownView",
      "description": "file",
      "description_allow_html": false,
      "disabled": false,
      "index": 0,
      "layout": "IPY_MODEL_a94ec82c318a4db8b0ff840d76ec749a",
      "style": "IPY_MODEL_15a542bd5d644b8e9a857b218e5c65d8",
      "tabbable": null,
      "tooltip": null
     }
    },
    "979e856191af48b2a29a44a8bde0b905": {
     "model_module": "@jupyter-widgets/output",
     "model_module_version": "1.0.0",
     "model_name": "OutputModel",
     "state": {
      "_dom_classes": [],
      "_model_module": "@jupyter-widgets/output",
      "_model_module_version": "1.0.0",
      "_model_name": "OutputModel",
      "_view_count": null,
      "_view_module": "@jupyter-widgets/output",
      "_view_module_version": "1.0.0",
      "_view_name": "OutputView",
      "layout": "IPY_MODEL_fc0947f970c7469385f4a6de0acb0666",
      "msg_id": "",
      "outputs": [
       {
        "name": "stdout",
        "output_type": "stream",
        "text": [
         "<class 'pandas.core.frame.DataFrame'>\n",
         "RangeIndex: 9109 entries, 0 to 9108\n",
         "Data columns (total 69 columns):\n",
         " #   Column                            Non-Null Count  Dtype  \n",
         "---  ------                            --------------  -----  \n",
         " 0   _ws_col_cus_protocol              9109 non-null   object \n",
         " 1   _ws_col_protocol                  9109 non-null   object \n",
         " 2   frame_protocols                   9109 non-null   object \n",
         " 3   frame_number                      9109 non-null   int64  \n",
         " 4   frame_time_epoch                  9109 non-null   float64\n",
         " 5   wlan_fc_type                      9109 non-null   int64  \n",
         " 6   _ws_col_cus_wlan_fc_type          9109 non-null   object \n",
         " 7   wlan_fc_type_subtype              9109 non-null   object \n",
         " 8   _ws_col_cus_wlan_fc_type_subtype  9109 non-null   object \n",
         " 9   wlan_ssid                         385 non-null    object \n",
         " 10  _ws_col_cus_wlan_ssid             385 non-null    object \n",
         " 11  wlan_tag                          385 non-null    object \n",
         " 12  wlan_bssid                        9107 non-null   object \n",
         " 13  wlan_sa                           9107 non-null   object \n",
         " 14  wlan_da                           9107 non-null   object \n",
         " 15  wlan_ra                           9109 non-null   object \n",
         " 16  wlan_ta                           9107 non-null   object \n",
         " 17  wlan_radio_channel                9109 non-null   int64  \n",
         " 18  wlan_radio_signal_dbm             0 non-null      float64\n",
         " 19  wlan_radio_data_rate              9107 non-null   float64\n",
         " 20  wlan_rsn_capabilities             0 non-null      float64\n",
         " 21  wlan_rsn_akms_list                0 non-null      float64\n",
         " 22  wlan_rsn_pcs_list                 0 non-null      float64\n",
         " 23  wlan_qos_tid                      0 non-null      float64\n",
         " 24  radiotap_channel_freq             9109 non-null   int64  \n",
         " 25  radiotap_dbm_antsignal            0 non-null      float64\n",
         " 26  radiotap_datarate                 9107 non-null   float64\n",
         " 27  wlan_addr                         9109 non-null   object \n",
         " 28  wlan_seq                          9107 non-null   float64\n",
         " 29  wlan_fc_retry                     9109 non-null   int64  \n",
         " 30  wlan_fc_retry_expert              0 non-null      float64\n",
         " 31  radiotap_data_retries             0 non-null      float64\n",
         " 32  wlan_duration                     9109 non-null   int64  \n",
         " 33  wlan_qbss_cu                      0 non-null      float64\n",
         " 34  radiotap_quality                  0 non-null      float64\n",
         " 35  wlan_radio_signal_percentage      0 non-null      float64\n",
         " 36  wlan_fcs                          0 non-null      float64\n",
         " 37  wlan_fcs_status                   0 non-null      float64\n",
         " 38  wlan_fc                           9109 non-null   object \n",
         " 39  wlan_fc_moredata                  9109 non-null   int64  \n",
         " 40  frame_len                         9109 non-null   int64  \n",
         " 41  wlan_radio_duration               9107 non-null   float64\n",
         " 42  frame_cap_len                     9109 non-null   int64  \n",
         " 43  wlan_qos_priority                 0 non-null      float64\n",
         " 44  wlan_qos_ack                      0 non-null      float64\n",
         " 45  wlan_qos_buf_state_indicated      0 non-null      float64\n",
         " 46  wlan_radio_noise_dbm              0 non-null      float64\n",
         " 47  tcp_analysis_ack_rtt              972 non-null    float64\n",
         " 48  tcp_analysis_lost_segment         0 non-null      float64\n",
         " 49  tcp_analysis_retransmission       3856 non-null   float64\n",
         " 50  frame_time_delta                  9109 non-null   float64\n",
         " 51  wlan_radio_snr                    0 non-null      float64\n",
         " 52  wlan_fc_more_fragments            0 non-null      float64\n",
         " 53  wlan_fixed_ssc_fragment           0 non-null      float64\n",
         " 54  wlan_fragment                     0 non-null      float64\n",
         " 55  wlan_fragment_count               0 non-null      float64\n",
         " 56  wlan_fragment_error               0 non-null      float64\n",
         " 57  wlan_radio_frequency              9109 non-null   int64  \n",
         " 58  radiotap_present_db_antnoise      9109 non-null   int64  \n",
         " 59  radiotap_present_db_antsignal     9109 non-null   int64  \n",
         " 60  radiotap_present_dbm_antnoise     9109 non-null   int64  \n",
         " 61  radiotap_present_dbm_antsignal    9109 non-null   int64  \n",
         " 62  analysisId                        9109 non-null   int64  \n",
         " 63  filePath                          9109 non-null   object \n",
         " 64  loadedOn                          9109 non-null   object \n",
         " 65  service_key                       9109 non-null   object \n",
         " 66  inserted_time                     9109 non-null   object \n",
         " 67  pipeline_version                  9109 non-null   object \n",
         " 68  label                             9109 non-null   int64  \n",
         "dtypes: float64(32), int64(16), object(21)\n",
         "memory usage: 4.8+ MB\n"
        ]
       }
      ],
      "tabbable": null,
      "tooltip": null
     }
    },
    "a94ec82c318a4db8b0ff840d76ec749a": {
     "model_module": "@jupyter-widgets/base",
     "model_module_version": "2.0.0",
     "model_name": "LayoutModel",
     "state": {
      "_model_module": "@jupyter-widgets/base",
      "_model_module_version": "2.0.0",
      "_model_name": "LayoutModel",
      "_view_count": null,
      "_view_module": "@jupyter-widgets/base",
      "_view_module_version": "2.0.0",
      "_view_name": "LayoutView",
      "align_content": null,
      "align_items": null,
      "align_self": null,
      "border_bottom": null,
      "border_left": null,
      "border_right": null,
      "border_top": null,
      "bottom": null,
      "display": null,
      "flex": null,
      "flex_flow": null,
      "grid_area": null,
      "grid_auto_columns": null,
      "grid_auto_flow": null,
      "grid_auto_rows": null,
      "grid_column": null,
      "grid_gap": null,
      "grid_row": null,
      "grid_template_areas": null,
      "grid_template_columns": null,
      "grid_template_rows": null,
      "height": null,
      "justify_content": null,
      "justify_items": null,
      "left": null,
      "margin": null,
      "max_height": null,
      "max_width": null,
      "min_height": null,
      "min_width": null,
      "object_fit": null,
      "object_position": null,
      "order": null,
      "overflow": null,
      "padding": null,
      "right": null,
      "top": null,
      "visibility": null,
      "width": null
     }
    },
    "fc0947f970c7469385f4a6de0acb0666": {
     "model_module": "@jupyter-widgets/base",
     "model_module_version": "2.0.0",
     "model_name": "LayoutModel",
     "state": {
      "_model_module": "@jupyter-widgets/base",
      "_model_module_version": "2.0.0",
      "_model_name": "LayoutModel",
      "_view_count": null,
      "_view_module": "@jupyter-widgets/base",
      "_view_module_version": "2.0.0",
      "_view_name": "LayoutView",
      "align_content": null,
      "align_items": null,
      "align_self": null,
      "border_bottom": null,
      "border_left": null,
      "border_right": null,
      "border_top": null,
      "bottom": null,
      "display": null,
      "flex": null,
      "flex_flow": null,
      "grid_area": null,
      "grid_auto_columns": null,
      "grid_auto_flow": null,
      "grid_auto_rows": null,
      "grid_column": null,
      "grid_gap": null,
      "grid_row": null,
      "grid_template_areas": null,
      "grid_template_columns": null,
      "grid_template_rows": null,
      "height": null,
      "justify_content": null,
      "justify_items": null,
      "left": null,
      "margin": null,
      "max_height": null,
      "max_width": null,
      "min_height": null,
      "min_width": null,
      "object_fit": null,
      "object_position": null,
      "order": null,
      "overflow": null,
      "padding": null,
      "right": null,
      "top": null,
      "visibility": null,
      "width": null
     }
    }
   }
  }
 },
 "nbformat": 4,
 "nbformat_minor": 4
}
